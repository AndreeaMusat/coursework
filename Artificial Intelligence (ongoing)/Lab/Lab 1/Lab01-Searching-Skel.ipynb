{
 "cells": [
  {
   "cell_type": "markdown",
   "metadata": {},
   "source": [
    "## Inteligență Artificială 2017 - Laboratorul 1 : Căutări\n",
    " - Tudor Berariu <tudor.berariu@gmail.com>\n",
    " - Andrei Olaru <cs@andreiolaru.ro>"
   ]
  },
  {
   "cell_type": "markdown",
   "metadata": {},
   "source": [
    "### Scopul laboratorului\n",
    "\n",
    "De foarte multe ori problemele care sunt legate de domeniul inteligenței artificiale sunt abstractizate ca o **căutare în spațiul stărilor** problemei. Laboratorul de astăzi își propune să recapituleze câteva noțiuni legate de limbajul de programare **Python** și să prezinte un algoritm de căutare informată: **A\\***."
   ]
  },
  {
   "cell_type": "markdown",
   "metadata": {},
   "source": [
    "### Problema\n",
    "\n",
    "În cadrul acestui laborator vom rezolva problema găsirii unui drum între două poziții pe o hartă bidimensională. Harta va avea și obstacole peste care nu se poate trece.\n",
    "\n",
    "Problemele de căutare sunt în general abstractizate cu grafuri. Harta bidimensională poate fi văzută ca un graf neorientat în care fiecare nod corespunde unei celule de pe hartă, iar o muchie conectează nodurile corespunzătoare  unor celule adiacente."
   ]
  },
  {
   "cell_type": "markdown",
   "metadata": {},
   "source": [
    "#### Pastila de Python"
   ]
  },
  {
   "cell_type": "code",
   "execution_count": 94,
   "metadata": {
    "collapsed": false
   },
   "outputs": [
    {
     "name": "stdout",
     "output_type": "stream",
     "text": [
      "10\n",
      "13\n"
     ]
    }
   ],
   "source": [
    "# Instanțierea unei variabile\n",
    "a = 10\n",
    "print(a)  # ==> a\n",
    "a += 3\n",
    "print(a) # ==> a"
   ]
  },
  {
   "cell_type": "code",
   "execution_count": 95,
   "metadata": {
    "collapsed": false
   },
   "outputs": [
    {
     "name": "stdout",
     "output_type": "stream",
     "text": [
      "[1, 2, 3, 4, 0, 1, 4, 9, ('a', 1), ('a', 2), ('b', 1), ('b', 2), ('c', 1), ('c', 2)]\n",
      "[4, 0, 1, 4, 9, ('a', 1), ('a', 2), ('b', 1)]\n"
     ]
    }
   ],
   "source": [
    "# Liste\n",
    "l1 = [1, 2, 3, 4]  # O listă definită explicit\n",
    "l2 = [x*x for x in range(4)]  # List comprehension\n",
    "l3 = [(chr(i), j) for i in range(ord('a'), ord('c')+1) for j in range(1,3)]\n",
    "l4 = l1 + l2 + l3  # Concatenarea listelor; Observație: listele nu sunt tipate\n",
    "\n",
    "print(l4)  # Se afișează lista l4\n",
    "print(l4[3:-3])  # Se afișează lista l4 fără primele 3 și ultimele 3 elemente"
   ]
  },
  {
   "cell_type": "markdown",
   "metadata": {},
   "source": [
    "#### Labirintul"
   ]
  },
  {
   "cell_type": "code",
   "execution_count": 96,
   "metadata": {
    "collapsed": false
   },
   "outputs": [
    {
     "data": {
      "image/png": "[encoded data removed]",
      "text/plain": [
       "<matplotlib.figure.Figure at 0x7fe1b448db00>"
      ]
     },
     "metadata": {},
     "output_type": "display_data"
    }
   ],
   "source": [
    "# Vom reprezenta labirintul printr-un tablou bidimensional (o listă de liste)\n",
    "# celulele libere vor avea valoarea 0, iar pereții valoarea 1\n",
    "\n",
    "empty = 0\n",
    "obstacle = 1\n",
    "\n",
    "height = 10\n",
    "width = 20\n",
    "\n",
    "# Construim labirintul ca o listă de liste\n",
    "labyrinth = [[0 for c in range(width)] for r in range(height)]\n",
    "\n",
    "# Așezăm câteva obstacole pe hartă\n",
    "for r in range(2, 7):\n",
    "    labyrinth[r][6] = 1\n",
    "    labyrinth[6][r] = 1\n",
    "labyrinth[2][7] = 1\n",
    "\n",
    "%matplotlib inline\n",
    "import matplotlib.pyplot as pyplot\n",
    "pyplot.imshow(labyrinth, cmap='Greys', interpolation='nearest');"
   ]
  },
  {
   "cell_type": "code",
   "execution_count": 97,
   "metadata": {
    "collapsed": false
   },
   "outputs": [
    {
     "data": {
      "text/plain": [
       "[False, False, True]"
      ]
     },
     "execution_count": 97,
     "metadata": {},
     "output_type": "execute_result"
    }
   ],
   "source": [
    "# Punctul de plecare și punctul destinație vor fi reprezentate prin tupluri\n",
    "start = (5, 5)\n",
    "final = (8, 8)\n",
    "\n",
    "# Funcții lambda, funcționale, lucruri frumoase\n",
    "is_final = lambda position: position == final\n",
    "\n",
    "# Map\n",
    "list(map(is_final, [(1,1), (3, 6), (8, 8)]))"
   ]
  },
  {
   "cell_type": "code",
   "execution_count": 98,
   "metadata": {
    "collapsed": false
   },
   "outputs": [
    {
     "data": {
      "text/plain": [
       "[2, 5, 8, 11, 14, 17]"
      ]
     },
     "execution_count": 98,
     "metadata": {},
     "output_type": "execute_result"
    }
   ],
   "source": [
    "# Filter\n",
    "list(filter(lambda x: x % 3 == 2, range(20)))  # ==> [2, 5, 8, 11, 14, 17]"
   ]
  },
  {
   "cell_type": "code",
   "execution_count": 99,
   "metadata": {
    "collapsed": false
   },
   "outputs": [
    {
     "data": {
      "text/plain": [
       "[1, 2, 3]"
      ]
     },
     "execution_count": 99,
     "metadata": {},
     "output_type": "execute_result"
    }
   ],
   "source": [
    "from functools import reduce\n",
    "\n",
    "# Reduce\n",
    "reduce(lambda x, y: [y] + x, [], [1,2,3])  # ==> [1, 2, 3]"
   ]
  },
  {
   "cell_type": "markdown",
   "metadata": {},
   "source": [
    "### Algoritmul A*"
   ]
  },
  {
   "cell_type": "markdown",
   "metadata": {},
   "source": [
    "Pentru a implementa algoritmul **A\\*** vom scrie întâi o funcție care întoarce lista tuturor pozițiilor vecine unei poziții date."
   ]
  },
  {
   "cell_type": "code",
   "execution_count": 100,
   "metadata": {
    "collapsed": false
   },
   "outputs": [
    {
     "data": {
      "text/plain": [
       "[False, False, False, True, False]"
      ]
     },
     "execution_count": 100,
     "metadata": {},
     "output_type": "execute_result"
    }
   ],
   "source": [
    "# Scrieți o funcție care verifică dacă un tuplu dat reprezintă\n",
    "# coordonatele unei poziții libere de pe hartă (coordonatele nu depășesc limitele hărții\n",
    "# și acolo nu se găsește un obstacol)\n",
    "\n",
    "def is_good(pos):\n",
    "    (n, m) = pos\n",
    "    if (n < 0 or m < 0 or n >= height or m >= width):\n",
    "        return False\n",
    "    if (labyrinth[n][m] == obstacle):\n",
    "        return False\n",
    "    return True\n",
    "\n",
    "list(map(is_good, [(-1,2), (height,3), (width,4), (5,5), (6,6)])) # False, False, False, True, False"
   ]
  },
  {
   "cell_type": "code",
   "execution_count": 101,
   "metadata": {
    "collapsed": false
   },
   "outputs": [
    {
     "data": {
      "text/plain": [
       "[[(1, 9), (0, 10), (0, 8)], [(4, 5), (5, 4)]]"
      ]
     },
     "execution_count": 101,
     "metadata": {},
     "output_type": "execute_result"
    }
   ],
   "source": [
    "# Scrieți o funcție care întoarce celulele vecine poziției date (doar cele libere)\n",
    "# Folosiți funcționala filter și funcția is_good scrisă anterior\n",
    "\n",
    "deltas = [(-1, 0), (1, 0), (0, 1), (0, -1)]\n",
    "\n",
    "def get_neighbours(pos):\n",
    "    (r, c) = pos # Așa se poate desface o poziție în componentele sale\n",
    "    neighbours = [(r + deltas[i][0], c + deltas[i][1]) for i in range(len(deltas))]\n",
    "    neighbours = list(filter(is_good, neighbours))\n",
    "    return neighbours\n",
    "\n",
    "[get_neighbours(p) for p in [(0,9), (5,5)]] # ==> [[(1,9), (0,8), (0, 10)], [(4,5), (5,4)]] - nu neaparat în ordinea asta"
   ]
  },
  {
   "cell_type": "markdown",
   "metadata": {},
   "source": [
    "#### Funcții euristice\n",
    "\n",
    "Implementați două funcții euristice pe care să le folosiți în algoritmul **A\\***:\n",
    " - distanța euclidiană\n",
    " - distanța Manhattan"
   ]
  },
  {
   "cell_type": "code",
   "execution_count": 102,
   "metadata": {
    "collapsed": false
   },
   "outputs": [
    {
     "data": {
      "text/plain": [
       "4.47213595499958"
      ]
     },
     "execution_count": 102,
     "metadata": {},
     "output_type": "execute_result"
    }
   ],
   "source": [
    "from math import sqrt\n",
    "\n",
    "def euclidean_distance(a, b):\n",
    "    (xa, ya) = a\n",
    "    (xb, yb) = b\n",
    "    return sqrt((xb - xa) ** 2 + (yb - ya) ** 2)\n",
    "\n",
    "euclidean_distance((2,3), (4, 7))   # ==> 4.4721359"
   ]
  },
  {
   "cell_type": "code",
   "execution_count": 103,
   "metadata": {
    "collapsed": false
   },
   "outputs": [
    {
     "data": {
      "text/plain": [
       "5"
      ]
     },
     "execution_count": 103,
     "metadata": {},
     "output_type": "execute_result"
    }
   ],
   "source": [
    "def manhattan_distance(a, b):\n",
    "    (xa, ya) = a\n",
    "    (xb, yb) = b\n",
    "    return abs(xb - xa) + abs(yb - ya)\n",
    "\n",
    "manhattan_distance((2,3), (4,0))  # ==> 5"
   ]
  },
  {
   "cell_type": "markdown",
   "metadata": {},
   "source": [
    "#### Cozi de priorități\n",
    "\n",
    "Pentru coada de priorități necesară algoritmului **A\\*** vom folosi heap-ul din Python [[1]](https://docs.python.org/2/library/heapq.html)."
   ]
  },
  {
   "cell_type": "code",
   "execution_count": 104,
   "metadata": {
    "collapsed": false
   },
   "outputs": [
    {
     "name": "stdout",
     "output_type": "stream",
     "text": [
      "(1, 'B')\n",
      "(1.5, 'C')\n",
      "(2, 'A')\n"
     ]
    }
   ],
   "source": [
    "from heapq import heappop, heappush\n",
    "\n",
    "priority_queue = []\n",
    "heappush(priority_queue, (2, 'A'))\n",
    "heappush(priority_queue, (1, 'B'))\n",
    "heappush(priority_queue, (1.5, 'C'))\n",
    "\n",
    "print(heappop(priority_queue))  # ==> (1, 'B')\n",
    "print(heappop(priority_queue))  # ==> (1.5, 'C')\n",
    "print(heappop(priority_queue))  # ==> (2, 'A')"
   ]
  },
  {
   "cell_type": "markdown",
   "metadata": {},
   "source": [
    "#### Dicționare\n",
    "\n",
    "Algoritmul **A\\*** memorează în timpul rulării informații despre pozițiile descoperite pe parcurs. Pentru a salva și recupera aceste informații în O(1) vom folosi o tabelă de dispersie, un dicționar în Python."
   ]
  },
  {
   "cell_type": "code",
   "execution_count": 105,
   "metadata": {
    "collapsed": false
   },
   "outputs": [
    {
     "name": "stdout",
     "output_type": "stream",
     "text": [
      "2\n",
      "3\n",
      "Nu am găsit!\n",
      "doi  ->  2\n",
      "trei  ->  3\n"
     ]
    }
   ],
   "source": [
    "# Dicționare\n",
    "d = {}\n",
    "d['doi'] = 2\n",
    "d['trei'] = 3\n",
    "\n",
    "print(d['doi']) # ==> 2\n",
    "\n",
    "# Funcția get\n",
    "print(d.get('trei'))  # ==> 3\n",
    "print(d.get('patru', 'Nu am găsit!'))  # ==> Nu am găsit!\n",
    "\n",
    "for (key, value) in d.items():\n",
    "    print(key, \" -> \", value)"
   ]
  },
  {
   "cell_type": "markdown",
   "metadata": {},
   "source": [
    "#### Algoritmul A\\*\n",
    "\n",
    "Scrieți o funcție ce implementează algoritmul **A\\***. Funcția va primi 3 argumente:\n",
    " - poziția de start\n",
    " - poziția finală\n",
    " - funcția euristică folosită\n",
    " \n",
    "Frontiera va fi o coadă de priorități ce va conține nodurile descoperite:\n",
    " - prioritatea va fi dată de funcția f (cost real din nodul de start + valoare estimată până la nodul final)\n",
    "\n",
    "Pentru informațiile ce trebuie memorate pentru fiecare nod descoperit se va folosi un dicționar\n",
    "\n",
    "    d[node] = (parent, cost)\n",
    "    \n",
    "în care se vor reține părintele nodului și costul cu care a fost descoperit."
   ]
  },
  {
   "cell_type": "code",
   "execution_count": 106,
   "metadata": {
    "collapsed": false
   },
   "outputs": [],
   "source": [
    "def astar(start, end, h):\n",
    "    # Frontiera, ca listă (heap) de tupluri (cost-total-estimat, nod)\n",
    "    frontier = []\n",
    "    heappush(frontier, (0 + h(start, end), start))\n",
    "    \n",
    "    # Nodurile descoperite ca dicționar nod -> (părinte, cost-până-la-nod)\n",
    "    discovered = {start: (None, 0)}\n",
    "    \n",
    "    while frontier:\n",
    "        (_, crt_node) = heappop(frontier)\n",
    "        crt_g = discovered[crt_node][1]\n",
    "        \n",
    "        if crt_node == end:\n",
    "            break\n",
    "            \n",
    "        crt_neighbours = get_neighbours(crt_node)\n",
    "        for neighbour in crt_neighbours:\n",
    "            if neighbour in discovered and \\\n",
    "               discovered[neighbour][1] <= crt_g + 1:\n",
    "                pass\n",
    "            else:\n",
    "                discovered[neighbour] = (crt_node, crt_g + 1)\n",
    "                heappush(frontier, (crt_g + 1 + h(neighbour, end), neighbour))\n",
    "    \n",
    "    cost_map = [[discovered[(r,c)][1] if (r,c) in discovered else 0 for c in range(width)]for r in range(height)]\n",
    "    pyplot.imshow(cost_map , cmap='Greys', interpolation='nearest');\n",
    "    \n",
    "    # Refacem drumul\n",
    "    path = []\n",
    "    last_node = end\n",
    "    while last_node is not None:\n",
    "        path.insert(0, last_node)\n",
    "        last_node = discovered[last_node][0]\n",
    "        \n",
    "    return path # drumul, ca listă de poziții"
   ]
  },
  {
   "cell_type": "code",
   "execution_count": 107,
   "metadata": {
    "collapsed": false
   },
   "outputs": [
    {
     "data": {
      "text/plain": [
       "[(5, 5),\n",
       " (5, 4),\n",
       " (5, 3),\n",
       " (5, 2),\n",
       " (5, 1),\n",
       " (6, 1),\n",
       " (7, 1),\n",
       " (7, 2),\n",
       " (7, 3),\n",
       " (7, 4),\n",
       " (7, 5),\n",
       " (7, 6),\n",
       " (7, 7),\n",
       " (7, 8),\n",
       " (8, 8)]"
      ]
     },
     "execution_count": 107,
     "metadata": {},
     "output_type": "execute_result"
    },
    {
     "data": {
      "image/png": "[encoded data removed]",
      "text/plain": [
       "<matplotlib.figure.Figure at 0x7fe1b41001d0>"
      ]
     },
     "metadata": {},
     "output_type": "display_data"
    }
   ],
   "source": [
    "astar(start, final, euclidean_distance)"
   ]
  },
  {
   "cell_type": "code",
   "execution_count": null,
   "metadata": {
    "collapsed": true
   },
   "outputs": [],
   "source": []
  }
 ],
 "metadata": {
  "kernelspec": {
   "display_name": "Python 3",
   "language": "python",
   "name": "python3"
  },
  "language_info": {
   "codemirror_mode": {
    "name": "ipython",
    "version": 3
   },
   "file_extension": ".py",
   "mimetype": "text/x-python",
   "name": "python",
   "nbconvert_exporter": "python",
   "pygments_lexer": "ipython3",
   "version": "3.4.3"
  }
 },
 "nbformat": 4,
 "nbformat_minor": 0
}
